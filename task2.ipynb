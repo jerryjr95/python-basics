{
 "cells": [
  {
   "cell_type": "code",
   "execution_count": 12,
   "id": "c2e29080-d731-4d3a-bef6-5d54fe2bc708",
   "metadata": {},
   "outputs": [
    {
     "name": "stdout",
     "output_type": "stream",
     "text": [
      "The Changed List: [8, 3, 4, 5, 6, 7]\n"
     ]
    }
   ],
   "source": [
    "#creating a list\n",
    "list = [1,2,3,4,5,6]\n",
    "\n",
    "#adding an element to a list\n",
    "list.append(7)\n",
    "\n",
    "#removing an element from a list\n",
    "list.remove(1)\n",
    "\n",
    "#modifying an element in a list\n",
    "list[0] = 8\n",
    "\n",
    "print(\"The Changed List:\" ,my_list)"
   ]
  },
  {
   "cell_type": "code",
   "execution_count": 13,
   "id": "2822dbc5-3e2b-4699-a6b4-85cd402e5547",
   "metadata": {},
   "outputs": [
    {
     "name": "stdout",
     "output_type": "stream",
     "text": [
      "The Changed Dictionary: {'name': 'Kalash', 'age': '22', 'gender': 'Male'}\n"
     ]
    }
   ],
   "source": [
    "#creating a dictionary\n",
    "dict = {'name': 'Kalash', 'age': 21, 'city': 'Delhi' } \n",
    "\n",
    "#adding in a dictionary\n",
    "dict['gender'] = 'Male'\n",
    "\n",
    "#removing from a dictionary\n",
    "del dict['city']\n",
    "\n",
    "#modifying an element in a dictionary\n",
    "dict['age'] = '22'\n",
    "\n",
    "print(\"The Changed Dictionary:\" ,dict)"
   ]
  },
  {
   "cell_type": "code",
   "execution_count": 14,
   "id": "423c2d68-986c-443d-bdda-bcee35b09aaa",
   "metadata": {},
   "outputs": [
    {
     "name": "stdout",
     "output_type": "stream",
     "text": [
      "The Changed Set: {3, 4, 5, 6, 7, 10}\n"
     ]
    }
   ],
   "source": [
    "#creating a set\n",
    "set1 = {1,2,3,4,5,6}\n",
    "\n",
    "#adding an element to a set\n",
    "set1.add(7)\n",
    "\n",
    "#removing an element from a set\n",
    "set1.remove(1)\n",
    "\n",
    "#modifying an element in a set\n",
    "set1.discard(2)\n",
    "set1.add(10)\n",
    "\n",
    "print(\"The Changed Set:\" ,set1)"
   ]
  },
  {
   "cell_type": "code",
   "execution_count": null,
   "id": "694f863c-75ff-43e0-8ad9-5d92f6ebe20e",
   "metadata": {},
   "outputs": [],
   "source": []
  }
 ],
 "metadata": {
  "kernelspec": {
   "display_name": "Python 3 (ipykernel)",
   "language": "python",
   "name": "python3"
  },
  "language_info": {
   "codemirror_mode": {
    "name": "ipython",
    "version": 3
   },
   "file_extension": ".py",
   "mimetype": "text/x-python",
   "name": "python",
   "nbconvert_exporter": "python",
   "pygments_lexer": "ipython3",
   "version": "3.11.9"
  }
 },
 "nbformat": 4,
 "nbformat_minor": 5
}
