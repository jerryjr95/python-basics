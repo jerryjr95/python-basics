{
 "cells": [
  {
   "cell_type": "code",
   "execution_count": 10,
   "id": "73417ab0-e95f-41d9-a202-7f9e4cab9b70",
   "metadata": {},
   "outputs": [
    {
     "name": "stdout",
     "output_type": "stream",
     "text": [
      "hi there. this is my first task.\n"
     ]
    }
   ],
   "source": [
    "#to print \"hi there. this is my first task.\"\n",
    "print(\"hi there. this is my first task.\")"
   ]
  },
  {
   "cell_type": "code",
   "execution_count": null,
   "id": "23abee98-7bdc-411b-9601-2f5e94e634ce",
   "metadata": {},
   "outputs": [],
   "source": [
    "#defining a variable in python\n",
    "a = 10"
   ]
  },
  {
   "cell_type": "code",
   "execution_count": null,
   "id": "a4b82e74-876e-4a01-958b-db76f576b4c7",
   "metadata": {},
   "outputs": [],
   "source": [
    "# Different data types in python\n",
    "#Strings\n",
    "#Numbers\n",
    "#Booleans\n",
    "#Python List\n",
    "#Python Tuples\n",
    "#Python Sets\n",
    "#Python Dictionary and etc."
   ]
  },
  {
   "cell_type": "code",
   "execution_count": 9,
   "id": "ffbfd896-f62d-443f-964a-e9e9354e3759",
   "metadata": {},
   "outputs": [
    {
     "name": "stdout",
     "output_type": "stream",
     "text": [
      "10\n"
     ]
    }
   ],
   "source": [
    "#to display the value of a static variable\n",
    "a = 10\n",
    "print(a)"
   ]
  },
  {
   "cell_type": "code",
   "execution_count": 19,
   "id": "d24302ed-8b50-4621-91ce-316d3bbded65",
   "metadata": {},
   "outputs": [
    {
     "name": "stdout",
     "output_type": "stream",
     "text": [
      "-8\n",
      "<class 'int'>\n"
     ]
    }
   ],
   "source": [
    "# to print integer value\n",
    "num = -8\n",
    "print (num)\n",
    "# print the data type \n",
    "print(type(num))"
   ]
  },
  {
   "cell_type": "code",
   "execution_count": 20,
   "id": "c5f13e03-d2b7-4ef2-8e0b-887dfeb83442",
   "metadata": {},
   "outputs": [
    {
     "name": "stdout",
     "output_type": "stream",
     "text": [
      "0.75\n",
      "<class 'float'>\n"
     ]
    }
   ],
   "source": [
    "# to print float value\n",
    "num = 3/4\n",
    "print(num)\n",
    "# print the data type\n",
    "print(type(num))"
   ]
  },
  {
   "cell_type": "code",
   "execution_count": 22,
   "id": "1ab94fe0-00eb-4005-a064-a1accd56a0af",
   "metadata": {},
   "outputs": [
    {
     "name": "stdout",
     "output_type": "stream",
     "text": [
      "(6+9j)\n",
      "<class 'complex'>\n"
     ]
    }
   ],
   "source": [
    "# to print complex numbers\n",
    "num = 6 + 9j\n",
    "print (num)\n",
    "# print the data type\n",
    "print(type(num))\n"
   ]
  },
  {
   "cell_type": "code",
   "execution_count": null,
   "id": "0bdf8a72-9061-44dc-9597-d20e2d2ad1ac",
   "metadata": {},
   "outputs": [],
   "source": [
    "# Creating Strings in python"
   ]
  },
  {
   "cell_type": "code",
   "execution_count": 33,
   "id": "774ca5a1-82ab-4ae4-aa4e-eeb06456e990",
   "metadata": {},
   "outputs": [
    {
     "name": "stdout",
     "output_type": "stream",
     "text": [
      "String with the use of Single Quotes: \n",
      "hello world\n"
     ]
    }
   ],
   "source": [
    "# Creating a String with single Quotes\n",
    "String1 = 'hello world'\n",
    "print(\"String with the use of Single Quotes: \")\n",
    "print(String1)"
   ]
  },
  {
   "cell_type": "code",
   "execution_count": 34,
   "id": "4854efac-02d3-467d-a45e-105a5f8d7d2d",
   "metadata": {},
   "outputs": [
    {
     "name": "stdout",
     "output_type": "stream",
     "text": [
      "\n",
      "String with the use of Double Quotes: \n",
      "I'm a student\n"
     ]
    }
   ],
   "source": [
    "# Creating a String with double Quotes\n",
    "String1 = \"I'm a student\"\n",
    "print(\"\\nString with the use of Double Quotes: \")\n",
    "print(String1)"
   ]
  },
  {
   "cell_type": "code",
   "execution_count": 35,
   "id": "6a37c1b9-45fd-4539-9034-6deb85783da8",
   "metadata": {},
   "outputs": [
    {
     "name": "stdout",
     "output_type": "stream",
     "text": [
      "\n",
      "String with the use of Triple Quotes: \n",
      "I'm a beginner\n"
     ]
    }
   ],
   "source": [
    "# Creating a String with triple Quotes\n",
    "String1 = '''I'm a beginner'''\n",
    "print(\"\\nString with the use of Triple Quotes: \")\n",
    "print(String1)"
   ]
  },
  {
   "cell_type": "code",
   "execution_count": 36,
   "id": "964a1cd9-3b22-4c5a-b268-fa587f817367",
   "metadata": {},
   "outputs": [
    {
     "name": "stdout",
     "output_type": "stream",
     "text": [
      "\n",
      "Creating a multiline String: \n",
      "hello\n",
      "           python\n",
      "            world\n"
     ]
    }
   ],
   "source": [
    "# Creating String with triple quotes allows multiple lines\n",
    "String1 = '''hello\n",
    "           python\n",
    "            world'''\n",
    "print(\"\\nCreating a multiline String: \")\n",
    "print(String1)\n"
   ]
  },
  {
   "cell_type": "code",
   "execution_count": null,
   "id": "9e9f04bc-5e87-4248-8941-e89f2466f38e",
   "metadata": {},
   "outputs": [],
   "source": [
    "#boolean value in python"
   ]
  },
  {
   "cell_type": "code",
   "execution_count": 23,
   "id": "8db4bcd4-3265-40bf-a51f-59d60c608c7f",
   "metadata": {},
   "outputs": [
    {
     "data": {
      "text/plain": [
       "bool"
      ]
     },
     "execution_count": 23,
     "metadata": {},
     "output_type": "execute_result"
    }
   ],
   "source": [
    "a = True\n",
    "type(a) \n",
    "\n",
    "b = False\n",
    "type(b)\n"
   ]
  },
  {
   "cell_type": "code",
   "execution_count": 24,
   "id": "0f619b48-2d62-475f-93aa-73e4a70cfa94",
   "metadata": {},
   "outputs": [
    {
     "name": "stdout",
     "output_type": "stream",
     "text": [
      "False\n"
     ]
    }
   ],
   "source": [
    "# example :\n",
    "# Returns False as x is not equal to y \n",
    "x = 5\n",
    "y = 10\n",
    "print(bool(x==y)) "
   ]
  },
  {
   "cell_type": "code",
   "execution_count": 28,
   "id": "69047429-afb3-4f2b-9c6f-4539d61d28a2",
   "metadata": {},
   "outputs": [],
   "source": [
    "# Dictionaries in python\n",
    "#syntax :- dict_var = {key1 : value1, key2 : value2, …..}"
   ]
  },
  {
   "cell_type": "code",
   "execution_count": 32,
   "id": "f405aa9a-3c79-40c3-a5f9-c7d93a29c034",
   "metadata": {},
   "outputs": [
    {
     "name": "stdout",
     "output_type": "stream",
     "text": [
      "{1: 'hello', 2: 'python', 3: 'world'}\n"
     ]
    }
   ],
   "source": [
    "# example:\n",
    "Dict = {1: 'hello', 2: 'python', 3: 'world'}\n",
    "print(Dict)"
   ]
  },
  {
   "cell_type": "code",
   "execution_count": 31,
   "id": "1c16853a-4302-4f49-8d8e-0168bbd4a180",
   "metadata": {},
   "outputs": [
    {
     "name": "stdout",
     "output_type": "stream",
     "text": [
      "['hello', 'python', 'world']\n"
     ]
    }
   ],
   "source": [
    "# Lists in python\n",
    "#syntax:- list_var=[\"val1\",\"val2\",\"val3\" …]\n",
    "\n",
    "#example:\n",
    "Var = [\"hello\", \"python\", \"world\"]\n",
    "print(Var)\n"
   ]
  },
  {
   "cell_type": "code",
   "execution_count": null,
   "id": "482bddfb-2a2a-4db9-bc40-fb849980f53e",
   "metadata": {},
   "outputs": [],
   "source": [
    "# Tuples in pyhton"
   ]
  },
  {
   "cell_type": "code",
   "execution_count": 39,
   "id": "b20b9fdc-ecf5-4d85-8ce4-27aec7ca544b",
   "metadata": {},
   "outputs": [
    {
     "name": "stdout",
     "output_type": "stream",
     "text": [
      "Initial empty Tuple: \n",
      "()\n"
     ]
    }
   ],
   "source": [
    "# Creating an empty Tuple\n",
    "Tuple1 = ()\n",
    "print(\"Initial empty Tuple: \")\n",
    "print(Tuple1)"
   ]
  },
  {
   "cell_type": "code",
   "execution_count": 40,
   "id": "25963355-29db-40c5-9991-f7c3407d34d6",
   "metadata": {},
   "outputs": [
    {
     "name": "stdout",
     "output_type": "stream",
     "text": [
      "\n",
      "Tuple with the use of String: \n",
      "('hi', 'puneet')\n"
     ]
    }
   ],
   "source": [
    "# Creating a Tuple with the use of string\n",
    "Tuple1 = ('hi', 'puneet')\n",
    "print(\"\\nTuple with the use of String: \")\n",
    "print(Tuple1)"
   ]
  },
  {
   "cell_type": "code",
   "execution_count": 41,
   "id": "9722229c-b5ae-41b3-bbbf-e1f0b07c9679",
   "metadata": {},
   "outputs": [
    {
     "name": "stdout",
     "output_type": "stream",
     "text": [
      "\n",
      "Tuple using List: \n",
      "(1, 2, 4, 5, 6)\n"
     ]
    }
   ],
   "source": [
    "# Creating a Tuple with the use of list\n",
    "list1 = [1, 2, 4, 5, 6]\n",
    "print(\"\\nTuple using List: \")\n",
    "print(tuple(list1))"
   ]
  },
  {
   "cell_type": "code",
   "execution_count": 42,
   "id": "cdf114ac-3995-4e2b-9961-816cb2ebdf4d",
   "metadata": {},
   "outputs": [
    {
     "name": "stdout",
     "output_type": "stream",
     "text": [
      "\n",
      "Tuple with the use of function: \n",
      "('p', 's')\n"
     ]
    }
   ],
   "source": [
    "# Creating a Tuple with the use of built-in function\n",
    "Tuple1 = tuple('ps')\n",
    "print(\"\\nTuple with the use of function: \")\n",
    "print(Tuple1)"
   ]
  },
  {
   "cell_type": "code",
   "execution_count": null,
   "id": "c2f89d26-efeb-4ead-b959-c6f5f7aba849",
   "metadata": {},
   "outputs": [],
   "source": [
    "# Sets in python"
   ]
  },
  {
   "cell_type": "code",
   "execution_count": 43,
   "id": "fa8edf68-7c79-4dde-b1b8-be9799ff155e",
   "metadata": {},
   "outputs": [
    {
     "name": "stdout",
     "output_type": "stream",
     "text": [
      "Initial blank Set: \n",
      "set()\n"
     ]
    }
   ],
   "source": [
    "# Creating a Set\n",
    "set1 = set()\n",
    "print(\"Initial blank Set: \")\n",
    "print(set1)"
   ]
  },
  {
   "cell_type": "code",
   "execution_count": 44,
   "id": "4f967d59-e6bf-4530-96eb-4e57c1a1d432",
   "metadata": {},
   "outputs": [
    {
     "name": "stdout",
     "output_type": "stream",
     "text": [
      "\n",
      "Set with the use of String: \n",
      "{'d', 'r', 'o', 'l', 'h', 'w', 'e'}\n"
     ]
    }
   ],
   "source": [
    "# Creating a Set with the use of a String\n",
    "set1 = set(\"helloworld\")\n",
    "print(\"\\nSet with the use of String: \")\n",
    "print(set1)"
   ]
  },
  {
   "cell_type": "code",
   "execution_count": 45,
   "id": "c4b1ba14-098d-46ce-a9ec-88936f2fc315",
   "metadata": {},
   "outputs": [
    {
     "name": "stdout",
     "output_type": "stream",
     "text": [
      "\n",
      "Set with the use of an Object: \n",
      "{'d', 'r', 'o', 'l', 'h', 'w', 'e'}\n"
     ]
    }
   ],
   "source": [
    "# Creating a set with use of an Object\n",
    "String = 'helloworld'\n",
    "set1 = set(String)\n",
    "print(\"\\nSet with the use of an Object: \")\n",
    "print(set1)"
   ]
  },
  {
   "cell_type": "code",
   "execution_count": 47,
   "id": "5d831670-945f-4792-bdb5-8970820bce54",
   "metadata": {},
   "outputs": [
    {
     "name": "stdout",
     "output_type": "stream",
     "text": [
      "\n",
      "Set with the use of List: \n",
      "{'python', 'world', 'hello'}\n"
     ]
    }
   ],
   "source": [
    "# Creating a Set with the use of a List\n",
    "set1 = set([\"hello\", \"python\", \"world\"])\n",
    "print(\"\\nSet with the use of List: \")\n",
    "print(set1)"
   ]
  },
  {
   "cell_type": "code",
   "execution_count": 52,
   "id": "a14b6d06-447e-42b3-9915-8182b4a7001d",
   "metadata": {},
   "outputs": [
    {
     "name": "stdout",
     "output_type": "stream",
     "text": [
      "\n",
      "Set with the use of Tuple: \n",
      "{'python', 'world', 'hello'}\n"
     ]
    }
   ],
   "source": [
    "# Creating a Set with the use of a tuple\n",
    "t = (\"hello\", \"python\", \"world\")\n",
    "print(\"\\nSet with the use of Tuple: \")\n",
    "print(set(t))"
   ]
  },
  {
   "cell_type": "code",
   "execution_count": 53,
   "id": "c5df2231-3acc-4976-861b-0d70ce122047",
   "metadata": {},
   "outputs": [
    {
     "name": "stdout",
     "output_type": "stream",
     "text": [
      "\n",
      "Set with the use of Dictionary: \n",
      "{'python', 'world', 'hello'}\n"
     ]
    }
   ],
   "source": [
    "# Creating a Set with the use of a dictionary\n",
    "d = {\"hello\": 1, \"python\": 2, \"world\": 3}\n",
    "print(\"\\nSet with the use of Dictionary: \")\n",
    "print(set(d))"
   ]
  },
  {
   "cell_type": "code",
   "execution_count": null,
   "id": "22f3e5d1-3622-4edd-a517-d063d4b70d9c",
   "metadata": {},
   "outputs": [],
   "source": [
    "# Arithmetic operations in python\n",
    "#addition\n",
    "#subtraction\n",
    "#multiplication\n",
    "#division\n",
    "#floor division\n",
    "#modulus\n",
    "#exponent"
   ]
  },
  {
   "cell_type": "code",
   "execution_count": 54,
   "id": "9e6f5976-4bb8-4987-97a2-5546cafafffd",
   "metadata": {},
   "outputs": [
    {
     "name": "stdout",
     "output_type": "stream",
     "text": [
      "5\n"
     ]
    }
   ],
   "source": [
    "val1 = 2\n",
    "val2 = 3\n",
    "\n",
    "# using the addition operator\n",
    "res = val1 + val2\n",
    "print(res)"
   ]
  },
  {
   "cell_type": "code",
   "execution_count": 55,
   "id": "9f0d4d3f-2e02-4429-91a4-2c32633f43a9",
   "metadata": {},
   "outputs": [
    {
     "name": "stdout",
     "output_type": "stream",
     "text": [
      "-1\n"
     ]
    }
   ],
   "source": [
    "val1 = 2\n",
    "val2 = 3\n",
    "\n",
    "# using the subtraction operator\n",
    "res = val1 - val2\n",
    "print(res)"
   ]
  },
  {
   "cell_type": "code",
   "execution_count": 56,
   "id": "06ef41af-9a85-4cab-ae14-681101889146",
   "metadata": {},
   "outputs": [
    {
     "name": "stdout",
     "output_type": "stream",
     "text": [
      "6\n"
     ]
    }
   ],
   "source": [
    "val1 = 2\n",
    "val2 = 3\n",
    "\n",
    "# using the multiplication operator\n",
    "res = val1 * val2\n",
    "print(res)"
   ]
  },
  {
   "cell_type": "code",
   "execution_count": 57,
   "id": "b9eb738d-9eef-4a10-93f0-2d1fcaef3664",
   "metadata": {},
   "outputs": [
    {
     "name": "stdout",
     "output_type": "stream",
     "text": [
      "1.5\n"
     ]
    }
   ],
   "source": [
    "val1 = 3\n",
    "val2 = 2\n",
    "\n",
    "# using the division operator\n",
    "res = val1 / val2\n",
    "print(res)"
   ]
  },
  {
   "cell_type": "code",
   "execution_count": 58,
   "id": "783bec6d-6ce3-4c6f-82cb-a5ce904eda55",
   "metadata": {},
   "outputs": [
    {
     "name": "stdout",
     "output_type": "stream",
     "text": [
      "1\n"
     ]
    }
   ],
   "source": [
    "val1 = 3\n",
    "val2 = 2\n",
    "\n",
    "# using the floor division\n",
    "res = val1 // val2\n",
    "print(res)"
   ]
  },
  {
   "cell_type": "code",
   "execution_count": 59,
   "id": "b2837a94-56af-4a06-96e1-bfbf2b9a90e9",
   "metadata": {},
   "outputs": [
    {
     "name": "stdout",
     "output_type": "stream",
     "text": [
      "1\n"
     ]
    }
   ],
   "source": [
    "val1 = 3\n",
    "val2 = 2\n",
    "\n",
    "# using the modulus operator\n",
    "res = val1 % val2\n",
    "print(res)"
   ]
  },
  {
   "cell_type": "code",
   "execution_count": 60,
   "id": "07c38cde-9ed3-46c8-823a-cf9615ceb970",
   "metadata": {},
   "outputs": [
    {
     "name": "stdout",
     "output_type": "stream",
     "text": [
      "8\n"
     ]
    }
   ],
   "source": [
    "val1 = 2\n",
    "val2 = 3\n",
    "\n",
    "# using the exponentiation operator\n",
    "res = val1 ** val2\n",
    "print(res)"
   ]
  },
  {
   "cell_type": "code",
   "execution_count": null,
   "id": "9548574a-c0ce-464c-b273-4c33c19fd9a8",
   "metadata": {},
   "outputs": [],
   "source": [
    "#conditional statements in python\n",
    "#if\n",
    "#if else\n",
    "#if..else chain\n",
    "#if elif\n",
    "#ternary"
   ]
  },
  {
   "cell_type": "code",
   "execution_count": 61,
   "id": "10dd574d-4caa-465a-9dc7-d115daf359ae",
   "metadata": {},
   "outputs": [
    {
     "name": "stdout",
     "output_type": "stream",
     "text": [
      "10 greater than 5\n",
      "Program ended\n"
     ]
    }
   ],
   "source": [
    "# if statement example \n",
    "if 10 > 5: \n",
    "\tprint(\"10 greater than 5\") \n",
    "\n",
    "print(\"Program ended\")"
   ]
  },
  {
   "cell_type": "code",
   "execution_count": 62,
   "id": "1d932fa9-9b23-484a-8a61-6ea6ad875a10",
   "metadata": {},
   "outputs": [
    {
     "name": "stdout",
     "output_type": "stream",
     "text": [
      "No\n"
     ]
    }
   ],
   "source": [
    "# if..else statement example \n",
    "x = 3\n",
    "if x == 4: \n",
    "\tprint(\"Yes\") \n",
    "else: \n",
    "\tprint(\"No\") "
   ]
  },
  {
   "cell_type": "code",
   "execution_count": 63,
   "id": "4b94df4f-0449-4c88-9d0b-33fd80875fb2",
   "metadata": {},
   "outputs": [
    {
     "name": "stdout",
     "output_type": "stream",
     "text": [
      "letter is A\n"
     ]
    }
   ],
   "source": [
    "# if..else chain statement \n",
    "letter = \"A\"\n",
    "\n",
    "if letter == \"B\": \n",
    "\tprint(\"letter is B\") \n",
    "\n",
    "else: \n",
    "\n",
    "\tif letter == \"C\": \n",
    "\t\tprint(\"letter is C\") \n",
    "\n",
    "\telse: \n",
    "\n",
    "\t\tif letter == \"A\": \n",
    "\t\t\tprint(\"letter is A\") \n",
    "\n",
    "\t\telse: \n",
    "\t\t\tprint(\"letter isn't A, B and C\") "
   ]
  },
  {
   "cell_type": "code",
   "execution_count": 64,
   "id": "49430784-3395-4c0d-953e-7c8bbe1e7ab2",
   "metadata": {},
   "outputs": [
    {
     "name": "stdout",
     "output_type": "stream",
     "text": [
      "letter is A\n"
     ]
    }
   ],
   "source": [
    "# if-elif statement example \n",
    "letter = \"A\"\n",
    "\n",
    "if letter == \"B\": \n",
    "\tprint(\"letter is B\") \n",
    "\n",
    "elif letter == \"C\": \n",
    "\tprint(\"letter is C\") \n",
    "\n",
    "elif letter == \"A\": \n",
    "\tprint(\"letter is A\") \n",
    "\n",
    "else: \n",
    "\tprint(\"letter isn't A, B or C\") "
   ]
  },
  {
   "cell_type": "code",
   "execution_count": 65,
   "id": "c50dba80-aef0-4189-97ad-4dcd1207c001",
   "metadata": {},
   "outputs": [
    {
     "name": "stdout",
     "output_type": "stream",
     "text": [
      "b is greater than a\n"
     ]
    }
   ],
   "source": [
    "# Python program to demonstrate nested ternary operator \n",
    "a, b = 10, 20\n",
    "\n",
    "print (\"Both a and b are equal\" if a == b else \"a is greater than b\"\n",
    "\t\tif a > b else \"b is greater than a\") "
   ]
  },
  {
   "cell_type": "code",
   "execution_count": null,
   "id": "5c9ddfd3-042f-48b6-a9fe-4a95d80ddccb",
   "metadata": {},
   "outputs": [],
   "source": [
    "# String manipulation in python\n",
    "# len()\n",
    "# slicing\n",
    "# reverse()\n",
    "# string to int conversion"
   ]
  },
  {
   "cell_type": "code",
   "execution_count": 66,
   "id": "953dbb43-a6ca-4ffa-95b5-961e32519246",
   "metadata": {},
   "outputs": [
    {
     "name": "stdout",
     "output_type": "stream",
     "text": [
      "12\n"
     ]
    }
   ],
   "source": [
    "string = \"puneetsharma\"\n",
    "print(len(string))"
   ]
  },
  {
   "cell_type": "code",
   "execution_count": 67,
   "id": "93ebbb03-8f0a-43d3-900c-e8e16742c0e9",
   "metadata": {},
   "outputs": [
    {
     "name": "stdout",
     "output_type": "stream",
     "text": [
      "el\n"
     ]
    }
   ],
   "source": [
    "string = \"puneetsharma\"\n",
    "# Using indexing sequence\n",
    "print(String[1:5:2])"
   ]
  },
  {
   "cell_type": "code",
   "execution_count": 68,
   "id": "3591c1a9-12d1-40f4-8c9b-54ae3f6e6357",
   "metadata": {},
   "outputs": [
    {
     "name": "stdout",
     "output_type": "stream",
     "text": [
      "The original string is : puneetsharma\n",
      "The reversed string(using loops) is : amrahsteenup\n"
     ]
    }
   ],
   "source": [
    "def reverse(s):\n",
    "\tstr = \"\"\n",
    "\tfor i in s:\n",
    "\t\tstr = i + str\n",
    "\treturn str\n",
    "\n",
    "s = \"puneetsharma\"\n",
    "\n",
    "print(\"The original string is : \", end=\"\")\n",
    "print(s)\n",
    "\n",
    "print(\"The reversed string(using loops) is : \", end=\"\")\n",
    "print(reverse(s))"
   ]
  },
  {
   "cell_type": "code",
   "execution_count": 69,
   "id": "df9327e3-18c6-4df4-b3ec-a30964422bda",
   "metadata": {},
   "outputs": [
    {
     "name": "stdout",
     "output_type": "stream",
     "text": [
      "<class 'str'>\n",
      "<class 'int'>\n"
     ]
    }
   ],
   "source": [
    "# Initialising a string with decimal value \n",
    "string = \"100\"\n",
    "# Show the Data type \n",
    "print(type(string)) \n",
    "# Converting string into int \n",
    "string_to_int = int(string) \n",
    "# Show the Data type \n",
    "print(type(string_to_int))"
   ]
  },
  {
   "cell_type": "code",
   "execution_count": null,
   "id": "a5731cd6-a0f7-48d8-af12-27e38faa567f",
   "metadata": {},
   "outputs": [],
   "source": []
  }
 ],
 "metadata": {
  "kernelspec": {
   "display_name": "Python 3 (ipykernel)",
   "language": "python",
   "name": "python3"
  },
  "language_info": {
   "codemirror_mode": {
    "name": "ipython",
    "version": 3
   },
   "file_extension": ".py",
   "mimetype": "text/x-python",
   "name": "python",
   "nbconvert_exporter": "python",
   "pygments_lexer": "ipython3",
   "version": "3.11.9"
  }
 },
 "nbformat": 4,
 "nbformat_minor": 5
}
